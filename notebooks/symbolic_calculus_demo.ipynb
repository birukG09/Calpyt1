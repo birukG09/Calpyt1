{
 "cells": [
  {
   "cell_type": "markdown",
   "metadata": {},
   "source": [
    "# Calpyt1 Symbolic Calculus Demo\n",
    "\n",
    "This notebook demonstrates the symbolic calculus capabilities of the Calpyt1 framework.\n",
    "\n",
    "## Table of Contents\n",
    "1. [Setup and Introduction](#setup)\n",
    "2. [Symbolic Derivatives](#derivatives)\n",
    "3. [Symbolic Integration](#integration)\n",
    "4. [Limits and Continuity](#limits)\n",
    "5. [Series Expansions](#series)\n",
    "6. [Advanced Applications](#advanced)\n",
    "7. [Real-world Examples](#examples)"
   ]
  },
  {
   "cell_type": "markdown",
   "metadata": {},
   "source": [
    "## Setup and Introduction {#setup}\n",
    "\n",
    "First, let's import the necessary libraries and initialize the Calpyt1 engine."
   ]
  },
  {
   "cell_type": "code",
   "execution_count": null,
   "metadata": {},
   "outputs": [],
   "source": [
    "import numpy as np\n",
    "import sympy as sp\n",
    "import matplotlib.pyplot as plt\n",
    "from calpyt1 import CalcEngine\n",
    "\n",
    "# Initialize the calculation engine\n",
    "engine = CalcEngine(precision=15)\n",
    "\n",
    "# Display engine information\n",
    "print(\"Calpyt1 Engine Information:\")\n",
    "print(\"=\" * 40)\n",
    "info = engine.get_info()\n",
    "for key, value in info.items():\n",
    "    print(f\"{key}: {value}\")"
   ]
  },
  {
   "cell_type": "markdown",
   "metadata": {},
   "source": [
    "## Symbolic Derivatives {#derivatives}\n",
    "\n",
    "Let's explore the derivative capabilities of Calpyt1."
   ]
  },
  {
   "cell_type": "markdown",
   "metadata": {},
   "source": [
    "### Basic Derivatives"
   ]
  },
  {
   "cell_type": "code",
   "execution_count": null,
   "metadata": {},
   "outputs": [],
   "source": [
    "# Basic derivative examples\n",
    "functions = [\n",
    "    \"x**2\",\n",
    "    \"sin(x)\",\n",
    "    \"exp(x)\", \n",
    "    \"log(x)\",\n",
    "    \"tan(x)\",\n",
    "    \"x**3 + 2*x**2 - 5*x + 3\"\n",
    "]\n",
    "\n",
    "print(\"Basic Derivatives:\")\n",
    "print(\"=\" * 50)\n",
    "\n",
    "for func in functions:\n",
    "    derivative = engine.symbolic_derivatives.derivative(func, \"x\")\n",
    "    print(f\"f(x) = {func}\")\n",
    "    print(f\"f'(x) = {derivative}\")\n",
    "    print(\"-\" * 30)"
   ]
  },
  {
   "cell_type": "markdown",
   "metadata": {},
   "source": [
    "### Higher Order Derivatives"
   ]
  },
  {
   "cell_type": "code",
   "execution_count": null,
   "metadata": {},
   "outputs": [],
   "source": [
    "# Higher order derivatives\n",
    "func = \"x**5 - 3*x**4 + 2*x**3 - x**2 + 4*x - 1\"\n",
    "\n",
    "print(f\"Function: f(x) = {func}\")\n",
    "print(\"=\" * 60)\n",
    "\n",
    "for order in range(1, 6):\n",
    "    derivative = engine.symbolic_derivatives.derivative(func, \"x\", order)\n",
    "    print(f\"f^({order})(x) = {derivative}\")"
   ]
  },
  {
   "cell_type": "markdown",
   "metadata": {},
   "source": [
    "### Partial Derivatives and Gradients"
   ]
  },
  {
   "cell_type": "code",
   "execution_count": null,
   "metadata": {},
   "outputs": [],
   "source": [
    "# Multivariable function\n",
    "func = \"x**2 + y**2 + z**2 + x*y + y*z\"\n",
    "\n",
    "print(f\"Function: f(x,y,z) = {func}\")\n",
    "print(\"=\" * 50)\n",
    "\n",
    "# Partial derivatives\n",
    "df_dx = engine.symbolic_derivatives.derivative(func, \"x\")\n",
    "df_dy = engine.symbolic_derivatives.derivative(func, \"y\")\n",
    "df_dz = engine.symbolic_derivatives.derivative(func, \"z\")\n",
    "\n",
    "print(\"Partial Derivatives:\")\n",
    "print(f\"∂f/∂x = {df_dx}\")\n",
    "print(f\"∂f/∂y = {df_dy}\")\n",
    "print(f\"∂f/∂z = {df_dz}\")\n",
    "\n",
    "# Gradient\n",
    "gradient = engine.symbolic_derivatives.gradient(func, [\"x\", \"y\", \"z\"])\n",
    "print(f\"\\nGradient: ∇f = {gradient}\")"
   ]
  },
  {
   "cell_type": "markdown",
   "metadata": {},
   "source": [
    "### Jacobian and Hessian Matrices"
   ]
  },
  {
   "cell_type": "code",
   "execution_count": null,
   "metadata": {},
   "outputs": [],
   "source": [
    "# Vector function for Jacobian\n",
    "functions = [\"x**2 + y\", \"x + y**2\", \"x*y\"]\n",
    "variables = [\"x\", \"y\"]\n",
    "\n",
    "print(\"Vector Function:\")\n",
    "for i, f in enumerate(functions):\n",
    "    print(f\"f_{i+1}(x,y) = {f}\")\n",
    "\n",
    "# Compute Jacobian\n",
    "jacobian = engine.symbolic_derivatives.jacobian(functions, variables)\n",
    "print(f\"\\nJacobian Matrix:\")\n",
    "print(jacobian)\n",
    "\n",
    "# Scalar function for Hessian\n",
    "scalar_func = \"x**3 + y**3 + 3*x*y\"\n",
    "print(f\"\\n\\nScalar Function: f(x,y) = {scalar_func}\")\n",
    "\n",
    "# Compute Hessian\n",
    "hessian = engine.symbolic_derivatives.hessian(scalar_func, variables)\n",
    "print(f\"\\nHessian Matrix:\")\n",
    "print(hessian)"
   ]
  },
  {
   "cell_type": "markdown",
   "metadata": {},
   "source": [
    "### Chain Rule and Implicit Differentiation"
   ]
  },
  {
   "cell_type": "code",
   "execution_count": null,
   "metadata": {},
   "outputs": [],
   "source": [
    "# Chain rule example\n",
    "outer = \"u**2 + sin(u)\"\n",
    "inner = \"x**2 + 1\"\n",
    "\n",
    "print(\"Chain Rule Example:\")\n",
    "print(f\"Outer function: g(u) = {outer}\")\n",
    "print(f\"Inner function: u(x) = {inner}\")\n",
    "print(f\"Composite: f(x) = g(u(x))\")\n",
    "\n",
    "chain_result = engine.symbolic_derivatives.chain_rule(outer, inner, \"x\")\n",
    "print(f\"\\nf'(x) = {chain_result}\")\n",
    "\n",
    "# Implicit differentiation\n",
    "print(\"\\n\" + \"=\"*50)\n",
    "print(\"Implicit Differentiation:\")\n",
    "equation = \"x**2 + y**2 - 1\"  # Circle equation\n",
    "print(f\"Equation: {equation} = 0\")\n",
    "\n",
    "implicit_deriv = engine.symbolic_derivatives.implicit_derivative(equation, \"y\", \"x\")\n",
    "print(f\"dy/dx = {implicit_deriv}\")"
   ]
  },
  {
   "cell_type": "markdown",
   "metadata": {},
   "source": [
    "## Symbolic Integration {#integration}\n",
    "\n",
    "Now let's explore integration capabilities."
   ]
  },
  {
   "cell_type": "markdown",
   "metadata": {},
   "source": [
    "### Indefinite Integrals"
   ]
  },
  {
   "cell_type": "code",
   "execution_count": null,
   "metadata": {},
   "outputs": [],
   "source": [
    "# Indefinite integral examples\n",
    "functions = [\n",
    "    \"x**3\",\n",
    "    \"sin(x)\",\n",
    "    \"exp(x)\",\n",
    "    \"1/x\",\n",
    "    \"1/(x**2 + 1)\",\n",
    "    \"x*exp(x)\"\n",
    "]\n",
    "\n",
    "print(\"Indefinite Integrals:\")\n",
    "print(\"=\" * 50)\n",
    "\n",
    "for func in functions:\n",
    "    integral = engine.symbolic_integrals.indefinite_integral(func, \"x\")\n",
    "    print(f\"∫({func}) dx = {integral}\")\n",
    "    print(\"-\" * 30)"
   ]
  },
  {
   "cell_type": "markdown",
   "metadata": {},
   "source": [
    "### Definite Integrals"
   ]
  },
  {
   "cell_type": "code",
   "execution_count": null,
   "metadata": {},
   "outputs": [],
   "source": [
    "# Definite integral examples\n",
    "integrals = [\n",
    "    (\"x**2\", \"x\", 0, 1),\n",
    "    (\"sin(x)\", \"x\", 0, sp.pi),\n",
    "    (\"exp(-x)\", \"x\", 0, sp.oo),\n",
    "    (\"1/(1+x**2)\", \"x\", -sp.oo, sp.oo)\n",
    "]\n",
    "\n",
    "print(\"Definite Integrals:\")\n",
    "print(\"=\" * 50)\n",
    "\n",
    "for func, var, a, b in integrals:\n",
    "    result = engine.symbolic_integrals.definite_integral(func, var, a, b)\n",
    "    print(f\"∫[{a} to {b}] ({func}) d{var} = {result}\")\n",
    "    print(\"-\" * 30)"
   ]
  },
  {
   "cell_type": "markdown",
   "metadata": {},
   "source": [
    "### Integration Techniques"
   ]
  },
  {
   "cell_type": "code",
   "execution_count": null,
   "metadata": {},
   "outputs": [],
   "source": [
    "# Integration by parts\n",
    "print(\"Integration by Parts:\")\n",
    "print(\"=\" * 30)\n",
    "\n",
    "u = \"x\"\n",
    "dv = \"exp(x)\"\n",
    "result = engine.symbolic_integrals.integration_by_parts(u, dv, \"x\")\n",
    "print(f\"∫({u})({dv}) dx = {result}\")\n",
    "\n",
    "# Integration techniques analysis\n",
    "print(\"\\nIntegration Techniques Analysis:\")\n",
    "print(\"=\" * 40)\n",
    "\n",
    "test_functions = [\n",
    "    \"x**2 + 1\",\n",
    "    \"x*sin(x)\",\n",
    "    \"(x+1)/(x**2+1)\",\n",
    "    \"sqrt(1-x**2)\"\n",
    "]\n",
    "\n",
    "for func in test_functions:\n",
    "    techniques = engine.symbolic_integrals.get_integration_techniques(func, \"x\")\n",
    "    print(f\"\\nFunction: {func}\")\n",
    "    print(f\"Suggested techniques:\")\n",
    "    for suggestion in techniques['suggestions']:\n",
    "        print(f\"  • {suggestion}\")"
   ]
  },
  {
   "cell_type": "markdown",
   "metadata": {},
   "source": [
    "## Limits and Continuity {#limits}\n",
    "\n",
    "Exploring limit calculations and continuity analysis."
   ]
  },
  {
   "cell_type": "markdown",
   "metadata": {},
   "source": [
    "### Basic Limits"
   ]
  },
  {
   "cell_type": "code",
   "execution_count": null,
   "metadata": {},
   "outputs": [],
   "source": [
    "# Classic limit examples\n",
    "limits = [\n",
    "    (\"sin(x)/x\", \"x\", 0, \"+-\"),\n",
    "    (\"(1-cos(x))/x**2\", \"x\", 0, \"+-\"),\n",
    "    (\"(1+1/x)**x\", \"x\", sp.oo, \"+-\"),\n",
    "    (\"(x**2-1)/(x-1)\", \"x\", 1, \"+-\"),\n",
    "    (\"exp(x)\", \"x\", sp.oo, \"+-\")\n",
    "]\n",
    "\n",
    "print(\"Classic Limits:\")\n",
    "print(\"=\" * 50)\n",
    "\n",
    "for expr, var, point, direction in limits:\n",
    "    result = engine.symbolic_limits.limit(expr, var, point, direction)\n",
    "    print(f\"lim[{var}→{point}] ({expr}) = {result}\")\n",
    "    print(\"-\" * 30)"
   ]
  },
  {
   "cell_type": "markdown",
   "metadata": {},
   "source": [
    "### One-sided Limits and Discontinuities"
   ]
  },
  {
   "cell_type": "code",
   "execution_count": null,
   "metadata": {},
   "outputs": [],
   "source": [
    "# One-sided limits\n",
    "expr = \"1/x\"\n",
    "point = 0\n",
    "\n",
    "left_limit = engine.symbolic_limits.left_limit(expr, \"x\", point)\n",
    "right_limit = engine.symbolic_limits.right_limit(expr, \"x\", point)\n",
    "\n",
    "print(f\"Function: f(x) = {expr}\")\n",
    "print(f\"Left limit at x = {point}: {left_limit}\")\n",
    "print(f\"Right limit at x = {point}: {right_limit}\")\n",
    "\n",
    "# Continuity analysis\n",
    "print(\"\\nContinuity Analysis:\")\n",
    "print(\"=\" * 30)\n",
    "\n",
    "test_functions = [\n",
    "    (\"x**2\", 1),\n",
    "    (\"sin(x)/x\", 0),\n",
    "    (\"(x**2-1)/(x-1)\", 1),\n",
    "    (\"1/x\", 0)\n",
    "]\n",
    "\n",
    "for func, point in test_functions:\n",
    "    continuity = engine.symbolic_limits.continuity_check(func, \"x\", point)\n",
    "    print(f\"\\nFunction: {func} at x = {point}\")\n",
    "    print(f\"Continuous: {continuity['continuous']}\")\n",
    "    print(f\"Type: {continuity['type']}\")\n",
    "    if continuity['function_value'] != 'undefined':\n",
    "        print(f\"Function value: {continuity['function_value']}\")\n",
    "    if continuity['limit_value'] != 'undefined':\n",
    "        print(f\"Limit value: {continuity['limit_value']}\")"
   ]
  },
  {
   "cell_type": "markdown",
   "metadata": {},
   "source": [
    "### L'Hôpital's Rule"
   ]
  },
  {
   "cell_type": "code",
   "execution_count": null,
   "metadata": {},
   "outputs": [],
   "source": [
    "# L'Hôpital's rule examples\n",
    "print(\"L'Hôpital's Rule Examples:\")\n",
    "print(\"=\" * 40)\n",
    "\n",
    "indeterminate_forms = [\n",
    "    (\"sin(x)\", \"x\", 0),\n",
    "    (\"1-cos(x)\", \"x**2\", 0),\n",
    "    (\"exp(x)-1\", \"x\", 0),\n",
    "    (\"x\", \"exp(x)\", sp.oo)\n",
    "]\n",
    "\n",
    "for num, den, point in indeterminate_forms:\n",
    "    result = engine.symbolic_limits.l_hopital_rule(num, den, \"x\", point)\n",
    "    print(f\"lim[x→{point}] ({num})/({den}) = {result}\")\n",
    "    print(\"-\" * 30)"
   ]
  },
  {
   "cell_type": "markdown",
   "metadata": {},
   "source": [
    "## Series Expansions {#series}\n",
    "\n",
    "Exploring Taylor series and other series expansions."
   ]
  },
  {
   "cell_type": "markdown",
   "metadata": {},
   "source": [
    "### Taylor and Maclaurin Series"
   ]
  },
  {
   "cell_type": "code",
   "execution_count": null,
   "metadata": {},
   "outputs": [],
   "source": [
    "# Taylor series examples\n",
    "functions = [\n",
    "    (\"exp(x)\", 0, 5),\n",
    "    (\"sin(x)\", 0, 7),\n",
    "    (\"cos(x)\", 0, 6),\n",
    "    (\"log(1+x)\", 0, 5),\n",
    "    (\"1/(1-x)\", 0, 5)\n",
    "]\n",
    "\n",
    "print(\"Taylor Series Expansions:\")\n",
    "print(\"=\" * 50)\n",
    "\n",
    "for func, point, order in functions:\n",
    "    series = engine.taylor_series.taylor_series(func, \"x\", point, order)\n",
    "    print(f\"Function: {func}\")\n",
    "    print(f\"Taylor series around x = {point} (order {order}):\")\n",
    "    print(f\"{series}\")\n",
    "    print(\"-\" * 30)"
   ]
  },
  {
   "cell_type": "markdown",
   "metadata": {},
   "source": [
    "### Series Convergence Analysis"
   ]
  },
  {
   "cell_type": "code",
   "execution_count": null,
   "metadata": {},
   "outputs": [],
   "source": [
    "# Series convergence tests\n",
    "print(\"Series Convergence Tests:\")\n",
    "print(\"=\" * 40)\n",
    "\n",
    "series_terms = [\n",
    "    (\"1/n\", \"integral\"),\n",
    "    (\"1/n**2\", \"ratio\"),\n",
    "    (\"1/factorial(n)\", \"ratio\"),\n",
    "    (\"n/2**n\", \"ratio\")\n",
    "]\n",
    "\n",
    "for term, test_type in series_terms:\n",
    "    convergence = engine.taylor_series.series_convergence_test(term, \"n\", test_type)\n",
    "    print(f\"\\nSeries: Σ({term})\")\n",
    "    print(f\"Test: {convergence['test_type']}\")\n",
    "    print(f\"Conclusion: {convergence['conclusion']}\")\n",
    "    if convergence['test_value'] is not None:\n",
    "        print(f\"Test value: {convergence['test_value']}\")"
   ]
  },
  {
   "cell_type": "markdown",
   "metadata": {},
   "source": [
    "### Fourier Series"
   ]
  },
  {
   "cell_type": "code",
   "execution_count": null,
   "metadata": {},
   "outputs": [],
   "source": [
    "# Fourier series example (square wave approximation)\n",
    "print(\"Fourier Series Example:\")\n",
    "print(\"=\" * 30)\n",
    "\n",
    "# For demonstration, we'll use a simple periodic function\n",
    "func = \"1\"  # Constant function (DC component)\n",
    "period = 2*sp.pi\n",
    "n_terms = 3\n",
    "\n",
    "coeffs = engine.taylor_series.fourier_series_coefficients(func, \"t\", period, n_terms)\n",
    "\n",
    "print(f\"Function: f(t) = {func}\")\n",
    "print(f\"Period: {period}\")\n",
    "print(f\"\\nFourier Coefficients:\")\n",
    "print(f\"a₀ = {coeffs['a0']}\")\n",
    "print(f\"aₙ = {coeffs['an']}\")\n",
    "print(f\"bₙ = {coeffs['bn']}\")\n",
    "\n",
    "# Build the Fourier series\n",
    "fourier_series = engine.taylor_series.fourier_series(func, \"t\", period, n_terms)\n",
    "print(f\"\\nFourier Series (first {n_terms} terms):\")\n",
    "print(fourier_series)"
   ]
  },
  {
   "cell_type": "markdown",
   "metadata": {},
   "source": [
    "## Advanced Applications {#advanced}\n",
    "\n",
    "Advanced symbolic calculus applications."
   ]
  },
  {
   "cell_type": "markdown",
   "metadata": {},
   "source": [
    "### Critical Point Analysis"
   ]
  },
  {
   "cell_type": "code",
   "execution_count": null,
   "metadata": {},
   "outputs": [],
   "source": [
    "# Critical point analysis for optimization\n",
    "func = \"x**3 - 6*x**2 + 9*x + 1\"\n",
    "\n",
    "print(f\"Function: f(x) = {func}\")\n",
    "print(\"=\" * 50)\n",
    "\n",
    "# First derivative\n",
    "f_prime = engine.symbolic_derivatives.derivative(func, \"x\")\n",
    "print(f\"f'(x) = {f_prime}\")\n",
    "\n",
    "# Second derivative\n",
    "f_double_prime = engine.symbolic_derivatives.derivative(func, \"x\", 2)\n",
    "print(f\"f''(x) = {f_double_prime}\")\n",
    "\n",
    "# Find critical points\n",
    "critical_points = engine.symbolic_derivatives.get_critical_points(func, [\"x\"])\n",
    "print(f\"\\nCritical points: {critical_points}\")\n",
    "\n",
    "# Analyze each critical point using second derivative test\n",
    "print(\"\\nSecond Derivative Test:\")\n",
    "for i, cp_dict in enumerate(critical_points):\n",
    "    if 'x' in cp_dict:\n",
    "        x_val = cp_dict['x']\n",
    "        # Evaluate second derivative at critical point\n",
    "        second_deriv_val = f_double_prime.subs(sp.Symbol('x'), x_val)\n",
    "        \n",
    "        print(f\"At x = {x_val}:\")\n",
    "        print(f\"  f''({x_val}) = {second_deriv_val}\")\n",
    "        \n",
    "        if second_deriv_val > 0:\n",
    "            print(f\"  → Local minimum\")\n",
    "        elif second_deriv_val < 0:\n",
    "            print(f\"  → Local maximum\")\n",
    "        else:\n",
    "            print(f\"  → Inconclusive (may be inflection point)\")"
   ]
  },
  {
   "cell_type": "markdown",
   "metadata": {},
   "source": [
    "### Multivariable Critical Point Analysis"
   ]
  },
  {
   "cell_type": "code",
   "execution_count": null,
   "metadata": {},
   "outputs": [],
   "source": [
    "# Multivariable critical point analysis\n",
    "func = \"x**2 + y**2 - 2*x - 4*y + 5\"\n",
    "\n",
    "print(f\"Function: f(x,y) = {func}\")\n",
    "print(\"=\" * 50)\n",
    "\n",
    "# Gradient\n",
    "gradient = engine.symbolic_derivatives.gradient(func, [\"x\", \"y\"])\n",
    "print(f\"∇f = {gradient}\")\n",
    "\n",
    "# Hessian matrix\n",
    "hessian = engine.symbolic_derivatives.hessian(func, [\"x\", \"y\"])\n",
    "print(f\"\\nHessian matrix:\")\n",
    "print(hessian)\n",
    "\n",
    "# Find critical points\n",
    "critical_points = engine.symbolic_derivatives.get_critical_points(func, [\"x\", \"y\"])\n",
    "print(f\"\\nCritical points: {critical_points}\")\n",
    "\n",
    "# Analyze using second derivative test for multivariable functions\n",
    "if critical_points:\n",
    "    cp = critical_points[0]  # Take first critical point\n",
    "    x_val, y_val = cp['x'], cp['y']\n",
    "    \n",
    "    # Evaluate Hessian at critical point\n",
    "    H_at_cp = hessian.subs([(sp.Symbol('x'), x_val), (sp.Symbol('y'), y_val)])\n",
    "    \n",
    "    print(f\"\\nAt critical point ({x_val}, {y_val}):\")\n",
    "    print(f\"Hessian = {H_at_cp}\")\n",
    "    \n",
    "    # Calculate determinant and trace\n",
    "    det_H = H_at_cp.det()\n",
    "    trace_H = H_at_cp.trace()\n",
    "    \n",
    "    print(f\"Determinant = {det_H}\")\n",
    "    print(f\"Trace = {trace_H}\")\n",
    "    \n",
    "    if det_H > 0 and trace_H > 0:\n",
    "        print(\"→ Local minimum\")\n",
    "    elif det_H > 0 and trace_H < 0:\n",
    "        print(\"→ Local maximum\")\n",
    "    elif det_H < 0:\n",
    "        print(\"→ Saddle point\")\n",
    "    else:\n",
    "        print(\"→ Inconclusive\")"
   ]
  },
  {
   "cell_type": "markdown",
   "metadata": {},
   "source": [
    "## Real-world Examples {#examples}\n",
    "\n",
    "Real-world applications of symbolic calculus."
   ]
  },
  {
   "cell_type": "markdown",
   "metadata": {},
   "source": [
    "### Physics: Projectile Motion Analysis"
   ]
  },
  {
   "cell_type": "code",
   "execution_count": null,
   "metadata": {},
   "outputs": [],
   "source": [
    "# Projectile motion with air resistance\n",
    "print(\"Projectile Motion Analysis\")\n",
    "print(\"=\" * 40)\n",
    "\n",
    "# Position function: h(t) = h₀ + v₀t - (1/2)gt²\n",
    "# where h₀ = initial height, v₀ = initial velocity, g = gravity\n",
    "h0, v0, g = 100, 30, 9.81  # Initial conditions\n",
    "\n",
    "height_func = f\"{h0} + {v0}*t - {g/2}*t**2\"\n",
    "\n",
    "print(f\"Height function: h(t) = {height_func}\")\n",
    "\n",
    "# Velocity (first derivative)\n",
    "velocity = engine.symbolic_derivatives.derivative(height_func, \"t\")\n",
    "print(f\"Velocity: v(t) = dh/dt = {velocity}\")\n",
    "\n",
    "# Acceleration (second derivative)\n",
    "acceleration = engine.symbolic_derivatives.derivative(height_func, \"t\", 2)\n",
    "print(f\"Acceleration: a(t) = d²h/dt² = {acceleration}\")\n",
    "\n",
    "# Time to reach maximum height (v = 0)\n",
    "print(f\"\\nAt maximum height, velocity = 0:\")\n",
    "print(f\"{velocity} = 0\")\n",
    "print(f\"Solving: t = {v0/g:.3f} seconds\")\n",
    "\n",
    "# Maximum height\n",
    "t_max = v0/g\n",
    "h_max = h0 + v0*t_max - (g/2)*t_max**2\n",
    "print(f\"Maximum height: h({t_max:.3f}) = {h_max:.2f} meters\")\n",
    "\n",
    "# Time to hit ground (h = 0)\n",
    "print(f\"\\nTime to hit ground (solving h(t) = 0):\")\n",
    "# Using quadratic formula: -b ± √(b²-4ac) / 2a\n",
    "# -g/2 * t² + v0*t + h0 = 0\n",
    "a_coeff = -g/2\n",
    "b_coeff = v0 \n",
    "c_coeff = h0\n",
    "\n",
    "discriminant = b_coeff**2 - 4*a_coeff*c_coeff\n",
    "t_ground = (-b_coeff + np.sqrt(discriminant)) / (2*a_coeff)\n",
    "print(f\"t = {t_ground:.3f} seconds\")"
   ]
  },
  {
   "cell_type": "markdown",
   "metadata": {},
   "source": [
    "### Economics: Marginal Analysis"
   ]
  },
  {
   "cell_type": "code",
   "execution_count": null,
   "metadata": {},
   "outputs": [],
   "source": [
    "# Economic marginal analysis\n",
    "print(\"Economic Marginal Analysis\")\n",
    "print(\"=\" * 40)\n",
    "\n",
    "# Cost function: C(x) = fixed costs + variable costs\n",
    "cost_func = \"1000 + 50*x + 0.1*x**2\"\n",
    "print(f\"Cost function: C(x) = {cost_func}\")\n",
    "\n",
    "# Revenue function: R(x) = price × quantity\n",
    "revenue_func = \"100*x - 0.2*x**2\"\n",
    "print(f\"Revenue function: R(x) = {revenue_func}\")\n",
    "\n",
    "# Profit function: P(x) = R(x) - C(x)\n",
    "profit_func = f\"({revenue_func}) - ({cost_func})\"\n",
    "profit_simplified = engine.symbolic_integrals.indefinite_integral(\n",
    "    engine.symbolic_derivatives.derivative(profit_func, \"x\"), \"x\"\n",
    ")\n",
    "\n",
    "print(f\"Profit function: P(x) = R(x) - C(x)\")\n",
    "\n",
    "# Marginal cost (derivative of cost)\n",
    "marginal_cost = engine.symbolic_derivatives.derivative(cost_func, \"x\")\n",
    "print(f\"\\nMarginal Cost: MC(x) = dC/dx = {marginal_cost}\")\n",
    "\n",
    "# Marginal revenue (derivative of revenue)\n",
    "marginal_revenue = engine.symbolic_derivatives.derivative(revenue_func, \"x\")\n",
    "print(f\"Marginal Revenue: MR(x) = dR/dx = {marginal_revenue}\")\n",
    "\n",
    "# Marginal profit (derivative of profit)\n",
    "marginal_profit = engine.symbolic_derivatives.derivative(profit_func, \"x\")\n",
    "print(f\"Marginal Profit: MP(x) = dP/dx = {marginal_profit}\")\n",
    "\n",
    "# Optimal production (where marginal profit = 0)\n",
    "print(f\"\\nOptimal production level (MP = 0):\")\n",
    "print(f\"{marginal_profit} = 0\")\n",
    "\n",
    "# Find critical points for profit maximization\n",
    "profit_critical = engine.symbolic_derivatives.get_critical_points(profit_func, [\"x\"])\n",
    "if profit_critical:\n",
    "    optimal_x = profit_critical[0]['x']\n",
    "    print(f\"Optimal quantity: x = {optimal_x} units\")\n",
    "    \n",
    "    # Calculate profit at optimal point\n",
    "    optimal_profit = eval(profit_func.replace('x', str(optimal_x)))\n",
    "    print(f\"Maximum profit: P({optimal_x}) = ${optimal_profit:.2f}\")"
   ]
  },
  {
   "cell_type": "markdown",
   "metadata": {},
   "source": [
    "### Engineering: Control Systems Transfer Function Analysis"
   ]
  },
  {
   "cell_type": "code",
   "execution_count": null,
   "metadata": {},
   "outputs": [],
   "source": [
    "# Control systems analysis\n",
    "print(\"Control Systems Transfer Function Analysis\")\n",
    "print(\"=\" * 50)\n",
    "\n",
    "# Second-order system response\n",
    "# Transfer function: H(s) = ωₙ² / (s² + 2ζωₙs + ωₙ²)\n",
    "# Step response: y(t) = 1 - exp(-ζωₙt) * [cos(ωdt) + (ζ/√(1-ζ²))sin(ωdt)]\n",
    "\n",
    "# System parameters\n",
    "omega_n = 2  # Natural frequency\n",
    "zeta = 0.3   # Damping ratio\n",
    "omega_d = omega_n * np.sqrt(1 - zeta**2)  # Damped frequency\n",
    "\n",
    "print(f\"Natural frequency: ωₙ = {omega_n} rad/s\")\n",
    "print(f\"Damping ratio: ζ = {zeta}\")\n",
    "print(f\"Damped frequency: ωd = {omega_d:.3f} rad/s\")\n",
    "\n",
    "# Step response function (simplified)\n",
    "step_response = f\"1 - exp(-{zeta*omega_n}*t) * cos({omega_d}*t)\"\n",
    "print(f\"\\nStep response: y(t) ≈ {step_response}\")\n",
    "\n",
    "# System characteristics\n",
    "print(f\"\\nSystem Characteristics:\")\n",
    "\n",
    "# Settling time (2% criterion)\n",
    "settling_time = 4 / (zeta * omega_n)\n",
    "print(f\"Settling time (2%): ts = {settling_time:.3f} seconds\")\n",
    "\n",
    "# Peak time\n",
    "peak_time = np.pi / omega_d\n",
    "print(f\"Peak time: tp = {peak_time:.3f} seconds\")\n",
    "\n",
    "# Percentage overshoot\n",
    "overshoot = 100 * np.exp(-zeta * np.pi / np.sqrt(1 - zeta**2))\n",
    "print(f\"Percentage overshoot: {overshoot:.1f}%\")\n",
    "\n",
    "# Analyze stability using derivatives\n",
    "print(f\"\\nStability Analysis:\")\n",
    "response_derivative = engine.symbolic_derivatives.derivative(step_response, \"t\")\n",
    "print(f\"dy/dt = {response_derivative}\")\n",
    "\n",
    "print(f\"\\nSystem is {'stable' if zeta > 0 else 'unstable'} (ζ > 0)\")\n",
    "if zeta < 1:\n",
    "    print(f\"System is underdamped (ζ < 1)\")\n",
    "elif zeta == 1:\n",
    "    print(f\"System is critically damped (ζ = 1)\")\n",
    "else:\n",
    "    print(f\"System is overdamped (ζ > 1)\")"
   ]
  },
  {
   "cell_type": "markdown",
   "metadata": {},
   "source": [
    "## Summary\n",
    "\n",
    "This notebook demonstrated the comprehensive symbolic calculus capabilities of Calpyt1:\n",
    "\n",
    "### Key Features Covered:\n",
    "1. **Derivatives**: Basic, higher-order, partial, chain rule, implicit\n",
    "2. **Integration**: Indefinite, definite, techniques analysis\n",
    "3. **Limits**: Basic limits, L'Hôpital's rule, continuity analysis\n",
    "4. **Series**: Taylor/Maclaurin, Fourier, convergence tests\n",
    "5. **Advanced**: Critical point analysis, optimization\n",
    "6. **Applications**: Physics, economics, engineering\n",
    "\n",
    "### Benefits of Calpyt1:\n",
    "- **Unified Interface**: Single framework for all symbolic operations\n",
    "- **Educational**: Clear explanations and step-by-step analysis\n",
    "- **Research**: Advanced capabilities for complex problems\n",
    "- **Industry**: Real-world application examples\n",
    "- **Extensible**: Easy to add new functionality\n",
    "\n",
    "For more examples and advanced usage, see the numerical methods demo and visualization examples."
   ]
  }
 ],
 "metadata": {
  "kernelspec": {
   "display_name": "Python 3",
   "language": "python",
   "name": "python3"
  },
  "language_info": {
   "codemirror_mode": {
    "name": "ipython",
    "version": 3
   },
   "file_extension": ".py",
   "mimetype": "text/x-python",
   "name": "python",
   "nbconvert_exporter": "python",
   "pygments_lexer": "ipython3",
   "version": "3.8.0"
  }
 },
 "nbformat": 4,
 "nbformat_minor": 4
}
